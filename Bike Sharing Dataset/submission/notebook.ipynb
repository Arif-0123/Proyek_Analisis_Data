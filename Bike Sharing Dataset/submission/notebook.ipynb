{
  "cells": [
    {
      "cell_type": "markdown",
      "metadata": {
        "id": "view-in-github",
        "colab_type": "text"
      },
      "source": [
        "<a href=\"https://colab.research.google.com/github/Arif-0123/Proyek_Analisis_Data/blob/main/Bike%20Sharing%20Dataset/submission/notebook.ipynb\" target=\"_parent\"><img src=\"https://colab.research.google.com/assets/colab-badge.svg\" alt=\"Open In Colab\"/></a>"
      ]
    },
    {
      "cell_type": "code",
      "execution_count": null,
      "id": "7342f0e4-0c46-4d92-b2d6-dac9bcaf474f",
      "metadata": {
        "id": "7342f0e4-0c46-4d92-b2d6-dac9bcaf474f"
      },
      "outputs": [],
      "source": []
    },
    {
      "cell_type": "markdown",
      "source": [
        "# Proyek Analisis Data: Nama dataset\n",
        "- Nama:\n",
        "- Email:\n",
        "- Id Dicoding:"
      ],
      "metadata": {
        "id": "cP5zh7Ww85Fm"
      },
      "id": "cP5zh7Ww85Fm"
    },
    {
      "cell_type": "markdown",
      "source": [
        "## Menentukan Pertanyaan Bisnis"
      ],
      "metadata": {
        "id": "ggwOFmpI88dG"
      },
      "id": "ggwOFmpI88dG"
    },
    {
      "cell_type": "markdown",
      "source": [
        "- pertanyaan 1\n",
        "- pertanyaan 2"
      ],
      "metadata": {
        "id": "6irqmTtg8-IC"
      },
      "id": "6irqmTtg8-IC"
    },
    {
      "cell_type": "markdown",
      "source": [
        "## Menyaipkan semua library yang dibuthkan"
      ],
      "metadata": {
        "id": "EueHsNk89AsY"
      },
      "id": "EueHsNk89AsY"
    },
    {
      "cell_type": "code",
      "execution_count": null,
      "metadata": {
        "id": "4cmWv4qc8xWu"
      },
      "outputs": [],
      "source": [],
      "id": "4cmWv4qc8xWu"
    },
    {
      "cell_type": "markdown",
      "source": [
        "## Data Wrangling"
      ],
      "metadata": {
        "id": "7DwSpkkZ9BqV"
      },
      "id": "7DwSpkkZ9BqV"
    },
    {
      "cell_type": "markdown",
      "source": [
        "### Gathering Data"
      ],
      "metadata": {
        "id": "ZuJuLGxe9D9O"
      },
      "id": "ZuJuLGxe9D9O"
    },
    {
      "cell_type": "code",
      "source": [],
      "metadata": {
        "id": "Rg3wtvOr9DUm"
      },
      "execution_count": null,
      "outputs": [],
      "id": "Rg3wtvOr9DUm"
    },
    {
      "cell_type": "markdown",
      "source": [
        "### Assessing Data"
      ],
      "metadata": {
        "id": "BvZAfrSH9F2U"
      },
      "id": "BvZAfrSH9F2U"
    },
    {
      "cell_type": "code",
      "source": [],
      "metadata": {
        "id": "fx7PaLsV9G8M"
      },
      "execution_count": null,
      "outputs": [],
      "id": "fx7PaLsV9G8M"
    },
    {
      "cell_type": "markdown",
      "source": [
        "### Cleaning Data"
      ],
      "metadata": {
        "id": "Uz5dgcJm9HW5"
      },
      "id": "Uz5dgcJm9HW5"
    },
    {
      "cell_type": "code",
      "source": [],
      "metadata": {
        "id": "CCszTdXD9Ivf"
      },
      "execution_count": null,
      "outputs": [],
      "id": "CCszTdXD9Ivf"
    },
    {
      "cell_type": "markdown",
      "source": [
        "## Exploratory Data Analysis (EDA)"
      ],
      "metadata": {
        "id": "EyPJaCDm9KFb"
      },
      "id": "EyPJaCDm9KFb"
    },
    {
      "cell_type": "markdown",
      "source": [
        "### Explore ..."
      ],
      "metadata": {
        "id": "hxgJ6qd69Mce"
      },
      "id": "hxgJ6qd69Mce"
    },
    {
      "cell_type": "code",
      "source": [],
      "metadata": {
        "id": "Xo68yguo9LTl"
      },
      "execution_count": null,
      "outputs": [],
      "id": "Xo68yguo9LTl"
    },
    {
      "cell_type": "markdown",
      "source": [
        "## Visualization & Explanatory Analysis"
      ],
      "metadata": {
        "id": "SCNmtOLp9OKB"
      },
      "id": "SCNmtOLp9OKB"
    },
    {
      "cell_type": "markdown",
      "source": [
        "### Pertanyaan 1:"
      ],
      "metadata": {
        "id": "SG59_Fbj9Qr6"
      },
      "id": "SG59_Fbj9Qr6"
    },
    {
      "cell_type": "code",
      "source": [],
      "metadata": {
        "id": "dtRoaxqd9PdU"
      },
      "execution_count": null,
      "outputs": [],
      "id": "dtRoaxqd9PdU"
    },
    {
      "cell_type": "markdown",
      "source": [
        "### Pertanyaan 2:"
      ],
      "metadata": {
        "id": "F2Bo_ypQ9RfH"
      },
      "id": "F2Bo_ypQ9RfH"
    },
    {
      "cell_type": "code",
      "source": [],
      "metadata": {
        "id": "jkO5kTJq9S1Y"
      },
      "execution_count": null,
      "outputs": [],
      "id": "jkO5kTJq9S1Y"
    },
    {
      "cell_type": "markdown",
      "source": [
        "## Conclusion"
      ],
      "metadata": {
        "id": "J2CnXYGT9Tc2"
      },
      "id": "J2CnXYGT9Tc2"
    },
    {
      "cell_type": "markdown",
      "source": [
        "- Conclution pertanyaan 1\n",
        "- conclution pertanyaan 2"
      ],
      "metadata": {
        "id": "f73FBkLw9V8C"
      },
      "id": "f73FBkLw9V8C"
    },
    {
      "cell_type": "code",
      "source": [],
      "metadata": {
        "id": "b32P72p99VN9"
      },
      "execution_count": null,
      "outputs": [],
      "id": "b32P72p99VN9"
    }
  ],
  "metadata": {
    "kernelspec": {
      "display_name": "Python 3 (ipykernel)",
      "language": "python",
      "name": "python3"
    },
    "language_info": {
      "codemirror_mode": {
        "name": "ipython",
        "version": 3
      },
      "file_extension": ".py",
      "mimetype": "text/x-python",
      "name": "python",
      "nbconvert_exporter": "python",
      "pygments_lexer": "ipython3",
      "version": "3.11.5"
    },
    "colab": {
      "provenance": [],
      "toc_visible": true,
      "include_colab_link": true
    }
  },
  "nbformat": 4,
  "nbformat_minor": 5
}