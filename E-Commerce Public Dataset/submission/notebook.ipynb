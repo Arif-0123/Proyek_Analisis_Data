{
  "nbformat": 4,
  "nbformat_minor": 0,
  "metadata": {
    "colab": {
      "provenance": [],
      "toc_visible": true,
      "authorship_tag": "ABX9TyNVrVmnnUmgeoeLuvIkQas8",
      "include_colab_link": true
    },
    "kernelspec": {
      "name": "python3",
      "display_name": "Python 3"
    },
    "language_info": {
      "name": "python"
    }
  },
  "cells": [
    {
      "cell_type": "markdown",
      "metadata": {
        "id": "view-in-github",
        "colab_type": "text"
      },
      "source": [
        "<a href=\"https://colab.research.google.com/github/Arif-0123/Proyek_Analisis_Data/blob/main/E-Commerce%20Public%20Dataset/submission/notebook.ipynb\" target=\"_parent\"><img src=\"https://colab.research.google.com/assets/colab-badge.svg\" alt=\"Open In Colab\"/></a>"
      ]
    },
    {
      "cell_type": "markdown",
      "source": [
        "# Proyek Analisis Data: E-commerce Public Dataset\n",
        "- Nama: Arif Hidayat\n",
        "- Email: a.gaul0812@gmail.com\n",
        "- Id Dicoding: kurokyshi"
      ],
      "metadata": {
        "id": "cP5zh7Ww85Fm"
      }
    },
    {
      "cell_type": "markdown",
      "source": [
        "## Menentukan Pertanyaan Bisnis"
      ],
      "metadata": {
        "id": "ggwOFmpI88dG"
      }
    },
    {
      "cell_type": "markdown",
      "source": [
        "- pertanyaan 1\n",
        "- pertanyaan 2"
      ],
      "metadata": {
        "id": "6irqmTtg8-IC"
      }
    },
    {
      "cell_type": "markdown",
      "source": [
        "## Menyiapkan semua library yang dibutuhkan"
      ],
      "metadata": {
        "id": "EueHsNk89AsY"
      }
    },
    {
      "cell_type": "code",
      "execution_count": null,
      "metadata": {
        "id": "4cmWv4qc8xWu"
      },
      "outputs": [],
      "source": []
    },
    {
      "cell_type": "markdown",
      "source": [
        "## Data Wrangling"
      ],
      "metadata": {
        "id": "7DwSpkkZ9BqV"
      }
    },
    {
      "cell_type": "markdown",
      "source": [
        "### Gathering Data"
      ],
      "metadata": {
        "id": "ZuJuLGxe9D9O"
      }
    },
    {
      "cell_type": "code",
      "source": [],
      "metadata": {
        "id": "Rg3wtvOr9DUm"
      },
      "execution_count": null,
      "outputs": []
    },
    {
      "cell_type": "markdown",
      "source": [
        "### Assessing Data"
      ],
      "metadata": {
        "id": "BvZAfrSH9F2U"
      }
    },
    {
      "cell_type": "code",
      "source": [],
      "metadata": {
        "id": "fx7PaLsV9G8M"
      },
      "execution_count": null,
      "outputs": []
    },
    {
      "cell_type": "markdown",
      "source": [
        "### Cleaning Data"
      ],
      "metadata": {
        "id": "Uz5dgcJm9HW5"
      }
    },
    {
      "cell_type": "code",
      "source": [],
      "metadata": {
        "id": "CCszTdXD9Ivf"
      },
      "execution_count": null,
      "outputs": []
    },
    {
      "cell_type": "markdown",
      "source": [
        "## Exploratory Data Analysis (EDA)"
      ],
      "metadata": {
        "id": "EyPJaCDm9KFb"
      }
    },
    {
      "cell_type": "markdown",
      "source": [
        "### Explore ..."
      ],
      "metadata": {
        "id": "hxgJ6qd69Mce"
      }
    },
    {
      "cell_type": "code",
      "source": [],
      "metadata": {
        "id": "Xo68yguo9LTl"
      },
      "execution_count": null,
      "outputs": []
    },
    {
      "cell_type": "markdown",
      "source": [
        "## Visualization & Explanatory Analysis"
      ],
      "metadata": {
        "id": "SCNmtOLp9OKB"
      }
    },
    {
      "cell_type": "markdown",
      "source": [
        "### Pertanyaan 1:"
      ],
      "metadata": {
        "id": "SG59_Fbj9Qr6"
      }
    },
    {
      "cell_type": "code",
      "source": [],
      "metadata": {
        "id": "dtRoaxqd9PdU"
      },
      "execution_count": null,
      "outputs": []
    },
    {
      "cell_type": "markdown",
      "source": [
        "### Pertanyaan 2:"
      ],
      "metadata": {
        "id": "F2Bo_ypQ9RfH"
      }
    },
    {
      "cell_type": "code",
      "source": [],
      "metadata": {
        "id": "jkO5kTJq9S1Y"
      },
      "execution_count": null,
      "outputs": []
    },
    {
      "cell_type": "markdown",
      "source": [
        "## Conclusion"
      ],
      "metadata": {
        "id": "J2CnXYGT9Tc2"
      }
    },
    {
      "cell_type": "markdown",
      "source": [
        "- Conclution pertanyaan 1\n",
        "- conclution pertanyaan 2"
      ],
      "metadata": {
        "id": "f73FBkLw9V8C"
      }
    },
    {
      "cell_type": "code",
      "source": [],
      "metadata": {
        "id": "b32P72p99VN9"
      },
      "execution_count": null,
      "outputs": []
    }
  ]
}