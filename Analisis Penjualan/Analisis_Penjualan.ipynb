{
  "nbformat": 4,
  "nbformat_minor": 0,
  "metadata": {
    "colab": {
      "provenance": [],
      "authorship_tag": "ABX9TyPHLxUiNpjIfS4uGih/AgD2",
      "include_colab_link": true
    },
    "kernelspec": {
      "name": "python3",
      "display_name": "Python 3"
    },
    "language_info": {
      "name": "python"
    }
  },
  "cells": [
    {
      "cell_type": "markdown",
      "metadata": {
        "id": "view-in-github",
        "colab_type": "text"
      },
      "source": [
        "<a href=\"https://colab.research.google.com/github/Arif-0123/Proyek_Analisis_Data/blob/main/Analisis%20Penjualan/Analisis_Penjualan.ipynb\" target=\"_parent\"><img src=\"https://colab.research.google.com/assets/colab-badge.svg\" alt=\"Open In Colab\"/></a>"
      ]
    },
    {
      "cell_type": "markdown",
      "source": [
        "# **Mengumpulkan Data**"
      ],
      "metadata": {
        "id": "ODoLVHeAwaFT"
      }
    },
    {
      "cell_type": "code",
      "execution_count": 4,
      "metadata": {
        "id": "GqFJKQs0qUl3"
      },
      "outputs": [],
      "source": [
        "import numpy as np\n",
        "import pandas as pd\n",
        "import matplotlib.pyplot as plt\n",
        "import seaborn as sns"
      ]
    },
    {
      "cell_type": "code",
      "source": [
        "customers_df = pd.read_csv(\"https://raw.githubusercontent.com/Arif-0123/Proyek_Analisis_Data/main/Analisis%20Penjualan/customers.csv\")\n",
        "customers_df.head()"
      ],
      "metadata": {
        "id": "wymU32fnuv_O"
      },
      "execution_count": null,
      "outputs": []
    },
    {
      "cell_type": "code",
      "source": [
        "orders_df = pd.read_csv(\"https://raw.githubusercontent.com/Arif-0123/Proyek_Analisis_Data/main/Analisis%20Penjualan/orders.csv\")\n",
        "orders_df.head()"
      ],
      "metadata": {
        "id": "5xaw0cFpv7RA"
      },
      "execution_count": null,
      "outputs": []
    },
    {
      "cell_type": "code",
      "source": [
        "product_df = pd.read_csv(\"https://raw.githubusercontent.com/Arif-0123/Proyek_Analisis_Data/main/Analisis%20Penjualan/products.csv\")\n",
        "product_df.head()"
      ],
      "metadata": {
        "id": "GJOjNtTvw7AZ"
      },
      "execution_count": null,
      "outputs": []
    },
    {
      "cell_type": "code",
      "source": [
        "sales_df = pd.read_csv(\"https://raw.githubusercontent.com/Arif-0123/Proyek_Analisis_Data/main/Analisis%20Penjualan/sales.csv\")\n",
        "sales_df.head()"
      ],
      "metadata": {
        "id": "OuwA0v9-xOn1"
      },
      "execution_count": null,
      "outputs": []
    }
  ]
}